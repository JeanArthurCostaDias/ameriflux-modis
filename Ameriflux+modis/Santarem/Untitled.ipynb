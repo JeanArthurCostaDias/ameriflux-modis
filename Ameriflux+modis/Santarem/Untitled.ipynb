{
 "cells": [
  {
   "cell_type": "code",
   "execution_count": 117,
   "id": "b6997c63-7b72-4204-8d5a-895bea20dd43",
   "metadata": {},
   "outputs": [],
   "source": [
    "import pandas as pd\n",
    "import numpy as np\n",
    "from ydata_profiling import ProfileReport"
   ]
  },
  {
   "cell_type": "code",
   "execution_count": 191,
   "id": "f8794482-ed90-4cc7-81d6-99a46954dfe7",
   "metadata": {},
   "outputs": [],
   "source": [
    "ameriflux = pd.read_csv('DADOS DE NPP - DADOS DE NPP.csv.csv') # Dados da AMERIFLUX\n",
    "modis_data = pd.read_csv('Npp_500m.csv',header=None)\n",
    "\n",
    "ameriflux = ameriflux.drop(['Time','Date'],axis=1)\n",
    "\n",
    "ameriflux = ameriflux.apply(lambda x:pd.to_numeric(x,errors='coerce'))\n",
    "\n",
    "ameriflux.fillna(np.nan)\n",
    "\n",
    "ameriflux['NPP'] = ameriflux['NPP'].apply(lambda x: x/(10^6)) # umol m-2 y-1 / 10 ^ 6 = molCO2 m-2 y-1"
   ]
  },
  {
   "cell_type": "code",
   "execution_count": 196,
   "id": "be942446-7257-4bec-ba41-b3b3e831156d",
   "metadata": {},
   "outputs": [
    {
     "data": {
      "text/plain": [
       "Year\n",
       "2009   -1.225002\n",
       "2010   -1.219483\n",
       "2011   -1.274146\n",
       "Name: NPP, dtype: float64"
      ]
     },
     "execution_count": 196,
     "metadata": {},
     "output_type": "execute_result"
    }
   ],
   "source": [
    "# profile = ProfileReport(ameriflux, tsmode=True,sortby=\"Year\",title='Profile Report Ameriflux')\n",
    "# profile.to_file(\"your_report.html\")\n",
    "\n",
    "ameriflux_npp = ameriflux.groupby(by='Year')['NPP'].mean() \n",
    "\n",
    "ameriflux_npp = ameriflux_npp * (12/44) # mol m-2 y-1  * g/mol = g m-2 y-1  # Relação massaC/massaCO2 pega do chatgpt\n",
    "\n",
    "ameriflux_npp /= (10^3) # g m-2 y-1 / 10^3 = kgCO2 m-2 y-1\n",
    "\n",
    "ameriflux_npp"
   ]
  },
  {
   "cell_type": "code",
   "execution_count": 197,
   "id": "7cb70023-e93d-44c4-bf15-5b2c0e79ba79",
   "metadata": {},
   "outputs": [
    {
     "data": {
      "text/plain": [
       "0\n",
       "A2009001    1.204458\n",
       "A2010001    1.183961\n",
       "A2011001    1.227251\n",
       "dtype: float64"
      ]
     },
     "execution_count": 197,
     "metadata": {},
     "output_type": "execute_result"
    }
   ],
   "source": [
    "def convert_unit(x):\n",
    "    return x/10000\n",
    "\n",
    "\n",
    "\n",
    "modis_data = modis_data.loc[modis_data[2].isin(['A2009001','A2010001','A2011001'])].copy() # Dados de NPP nos anos de 2009, 2010 e 2011\n",
    "\n",
    "\n",
    "modis_data = modis_data.drop([0,1,3,4],axis=1).reset_index().drop('index',axis=1) # Retirando colunas com informações não relevantes e restabelecendo o dataframe a partir de um index 0 nas 2 linhas\n",
    "\n",
    "\n",
    "modis_data.columns = range(len(modis_data.columns.to_list())) # Reiniciando o index a partir do 0 para as colunas \n",
    "\n",
    "\n",
    "modis_data.set_index(0,inplace=True) # Colocando o \"Acquisition Date [ A (YYYYDDD) ]\"  como index para legibilidade do dataframe\n",
    "\n",
    "\n",
    "modis_data.apply(convert_unit) # Conversão para kgC/m²/year como está disposto no mapa (Adição de um 0 a mais para coincidir com o mapa do site)\n",
    "\n",
    "modis_npp_mean = modis_data.apply(lambda x:x/10000).mean(axis=1) # Média de NPP nesses anos\n",
    "modis_npp_mean"
   ]
  },
  {
   "cell_type": "code",
   "execution_count": 198,
   "id": "8b30c53e-0838-448e-90dd-a95451d12db6",
   "metadata": {},
   "outputs": [],
   "source": [
    "# FUNÇÃO CRIADA PARA CRIAÇÃO DOS GRÁFICOS\n",
    "\n",
    "def reg_graph (x, y, data,sct_size=10, title='', legend_visibility=True, legend_title=None, xlabel='', ylabel='', fit_intercept=True, ativar_grafico_yx=False,reg_from_start=False, offset_txt_x=0.15,offset_txt_y=2.25):\n",
    "    # x = eixo x do gráfico\n",
    "    # y = eixo y do gráfico\n",
    "    # data = dataframe origem dos dados que representam x e y\n",
    "    # sct_size = tamanho do scatter no gráfico\n",
    "    # title = título do gráfico\n",
    "    # legend_visibility = visibilidade da legenda\n",
    "    # legend_title = título da legenda\n",
    "    # xlabel = título do eixo x\n",
    "    # ylabel = titulo do eixo y\n",
    "    # offset_txt_x = deslocamento do texto da função no eixo x\n",
    "    # offset_txt_y = deslocamento do texto da função no eixo y\n",
    "    \n",
    "    sns.set_style('darkgrid')\n",
    "    \n",
    "    f, ax = plt.subplots(1,figsize=(8, 5))\n",
    "    \n",
    "    sns.scatterplot(x=data[x], y=data[y], data=ameriflux_mensal,size=sct_size)\n",
    "    \n",
    "    rng = np.random.default_rng(1234) #seed para valores aleatórios\n",
    "    lr = LinearRegression(fit_intercept=fit_intercept)   \n",
    "    fitted_reg = lr.fit(data[[x]],data[[y]])\n",
    "    \n",
    "    if not fit_intercept:\n",
    "        fitted_reg.intercept_ = [fitted_reg.intercept_] # Prevenindo erros\n",
    "        \n",
    "    r2_score = fitted_reg.score(data[[x]],data[[y]]) # R² Score\n",
    "    x_reg_line = rng.uniform(data[x].min(), data[x].max(), size=100) # gerando valores entre os valores do scatterplot para criar a reta\n",
    "    y_reg_line = x_reg_line * fitted_reg.coef_ + fitted_reg.intercept_[0] # função y=ax + b para representar a reta criada\n",
    "    \n",
    "    if reg_from_start:\n",
    "        x_reg_line = rng.uniform(0, 100 , size=1000) # gerando valores entre os valores do scatterplot para criar a reta, partindo do 0\n",
    "        y_reg_line = x_reg_line * fitted_reg.coef_ + fitted_reg.intercept_[0] # função y=ax + b para representar a reta criada\n",
    "\n",
    "    \n",
    "    text_coord_x = data[x].max() - data[x].max() * offset_txt_x  #eixo x do texto\n",
    "\n",
    "    \n",
    "    plt.text(text_coord_x, offset_txt_y, f'Y={round(fitted_reg.coef_[0][0],4)}x + {round(fitted_reg.intercept_[0],4)}',fontsize=12, ha='center', va='center',color='blue') #Texto da reta Azul\n",
    "    plt.text(text_coord_x, offset_txt_y - (offset_txt_y*0.3), f'R²:{round(r2_score,4)}', fontsize=12, ha='center', va='center',color='blue') # Texto r²\n",
    "    \n",
    "\n",
    "    ax.set_ylim((0, (data[y].max() + 1))) # tamanho limite do plot no eixo y\n",
    "    ax.set_xlim((0, data[x].max() + 1)) # tamanho limite do plot no eixo x\n",
    "    ax.plot(x_reg_line,y_reg_line[0]) #reta de regressão\n",
    "\n",
    "    if ativar_grafico_yx:\n",
    "        y_x = rng.uniform(0, 100, size=1000) # gerando 100 valores aleatórios \n",
    "        ax.plot(y_x,y_x, 'k--') # reta y=x\n",
    "    \n",
    "\n",
    "    \n",
    "    plt.title(title) # Título do gráfico\n",
    "    plt.legend(title=legend_title,loc='upper left').set_visible(legend_visibility) #legenda no canto superior esquerdo\n",
    "    plt.xlabel(xlabel) #Título do eixo X\n",
    "    plt.ylabel(ylabel) #Título do eixo y\n",
    "    plt.tight_layout() #Redimensionar melhor o gráfico\n",
    "    plt.show() #Mostrar o gráfico\n",
    "    \n"
   ]
  },
  {
   "cell_type": "code",
   "execution_count": 187,
   "id": "2d536cfe-e993-4e6a-8310-9bc0c981b9c3",
   "metadata": {},
   "outputs": [
    {
     "data": {
      "text/plain": [
       "-40.91576072953965"
      ]
     },
     "execution_count": 187,
     "metadata": {},
     "output_type": "execute_result"
    }
   ],
   "source": []
  }
 ],
 "metadata": {
  "kernelspec": {
   "display_name": "Python 3 (ipykernel)",
   "language": "python",
   "name": "python3"
  },
  "language_info": {
   "codemirror_mode": {
    "name": "ipython",
    "version": 3
   },
   "file_extension": ".py",
   "mimetype": "text/x-python",
   "name": "python",
   "nbconvert_exporter": "python",
   "pygments_lexer": "ipython3",
   "version": "3.10.7"
  }
 },
 "nbformat": 4,
 "nbformat_minor": 5
}
